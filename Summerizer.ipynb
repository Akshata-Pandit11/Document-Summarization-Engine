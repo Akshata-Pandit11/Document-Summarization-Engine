{
 "cells": [
  {
   "cell_type": "code",
   "execution_count": 1,
   "id": "f368c930-d924-4f39-9914-43e006f41d55",
   "metadata": {
    "scrolled": true
   },
   "outputs": [
    {
     "name": "stdout",
     "output_type": "stream",
     "text": [
      "Defaulting to user installation because normal site-packages is not writeable\n",
      "Requirement already satisfied: pdfplumber in c:\\users\\akshata pandit\\appdata\\roaming\\python\\python311\\site-packages (0.11.6)\n",
      "Collecting sumy\n",
      "  Downloading sumy-0.11.0-py2.py3-none-any.whl.metadata (7.5 kB)\n",
      "Requirement already satisfied: transformers in c:\\users\\akshata pandit\\appdata\\roaming\\python\\python311\\site-packages (4.51.3)\n",
      "Requirement already satisfied: nltk in c:\\programdata\\anaconda3\\lib\\site-packages (3.8.1)\n",
      "Requirement already satisfied: pdfminer.six==20250327 in c:\\users\\akshata pandit\\appdata\\roaming\\python\\python311\\site-packages (from pdfplumber) (20250327)\n",
      "Requirement already satisfied: Pillow>=9.1 in c:\\users\\akshata pandit\\appdata\\roaming\\python\\python311\\site-packages (from pdfplumber) (10.4.0)\n",
      "Requirement already satisfied: pypdfium2>=4.18.0 in c:\\users\\akshata pandit\\appdata\\roaming\\python\\python311\\site-packages (from pdfplumber) (4.30.1)\n",
      "Requirement already satisfied: charset-normalizer>=2.0.0 in c:\\users\\akshata pandit\\appdata\\roaming\\python\\python311\\site-packages (from pdfminer.six==20250327->pdfplumber) (3.4.2)\n",
      "Requirement already satisfied: cryptography>=36.0.0 in c:\\programdata\\anaconda3\\lib\\site-packages (from pdfminer.six==20250327->pdfplumber) (42.0.2)\n",
      "Collecting docopt<0.7,>=0.6.1 (from sumy)\n",
      "  Downloading docopt-0.6.2.tar.gz (25 kB)\n",
      "  Preparing metadata (setup.py): started\n",
      "  Preparing metadata (setup.py): finished with status 'done'\n",
      "Collecting breadability>=0.1.20 (from sumy)\n",
      "  Downloading breadability-0.1.20.tar.gz (32 kB)\n",
      "  Preparing metadata (setup.py): started\n",
      "  Preparing metadata (setup.py): finished with status 'done'\n",
      "Requirement already satisfied: requests>=2.7.0 in c:\\users\\akshata pandit\\appdata\\roaming\\python\\python311\\site-packages (from sumy) (2.32.3)\n",
      "Collecting pycountry>=18.2.23 (from sumy)\n",
      "  Downloading pycountry-24.6.1-py3-none-any.whl.metadata (12 kB)\n",
      "Requirement already satisfied: filelock in c:\\programdata\\anaconda3\\lib\\site-packages (from transformers) (3.13.1)\n",
      "Requirement already satisfied: huggingface-hub<1.0,>=0.30.0 in c:\\users\\akshata pandit\\appdata\\roaming\\python\\python311\\site-packages (from transformers) (0.31.2)\n",
      "Requirement already satisfied: numpy>=1.17 in c:\\users\\akshata pandit\\appdata\\roaming\\python\\python311\\site-packages (from transformers) (1.26.4)\n",
      "Requirement already satisfied: packaging>=20.0 in c:\\users\\akshata pandit\\appdata\\roaming\\python\\python311\\site-packages (from transformers) (23.2)\n",
      "Requirement already satisfied: pyyaml>=5.1 in c:\\programdata\\anaconda3\\lib\\site-packages (from transformers) (6.0.1)\n",
      "Requirement already satisfied: regex!=2019.12.17 in c:\\programdata\\anaconda3\\lib\\site-packages (from transformers) (2023.10.3)\n",
      "Requirement already satisfied: tokenizers<0.22,>=0.21 in c:\\users\\akshata pandit\\appdata\\roaming\\python\\python311\\site-packages (from transformers) (0.21.1)\n",
      "Requirement already satisfied: safetensors>=0.4.3 in c:\\users\\akshata pandit\\appdata\\roaming\\python\\python311\\site-packages (from transformers) (0.5.3)\n",
      "Requirement already satisfied: tqdm>=4.27 in c:\\programdata\\anaconda3\\lib\\site-packages (from transformers) (4.65.0)\n",
      "Requirement already satisfied: click in c:\\users\\akshata pandit\\appdata\\roaming\\python\\python311\\site-packages (from nltk) (8.1.8)\n",
      "Requirement already satisfied: joblib in c:\\programdata\\anaconda3\\lib\\site-packages (from nltk) (1.2.0)\n",
      "Requirement already satisfied: chardet in c:\\programdata\\anaconda3\\lib\\site-packages (from breadability>=0.1.20->sumy) (4.0.0)\n",
      "Requirement already satisfied: lxml>=2.0 in c:\\programdata\\anaconda3\\lib\\site-packages (from breadability>=0.1.20->sumy) (4.9.3)\n",
      "Requirement already satisfied: fsspec>=2023.5.0 in c:\\programdata\\anaconda3\\lib\\site-packages (from huggingface-hub<1.0,>=0.30.0->transformers) (2023.10.0)\n",
      "Requirement already satisfied: typing-extensions>=3.7.4.3 in c:\\users\\akshata pandit\\appdata\\roaming\\python\\python311\\site-packages (from huggingface-hub<1.0,>=0.30.0->transformers) (4.13.2)\n",
      "Requirement already satisfied: idna<4,>=2.5 in c:\\users\\akshata pandit\\appdata\\roaming\\python\\python311\\site-packages (from requests>=2.7.0->sumy) (3.10)\n",
      "Requirement already satisfied: urllib3<3,>=1.21.1 in c:\\users\\akshata pandit\\appdata\\roaming\\python\\python311\\site-packages (from requests>=2.7.0->sumy) (2.4.0)\n",
      "Requirement already satisfied: certifi>=2017.4.17 in c:\\users\\akshata pandit\\appdata\\roaming\\python\\python311\\site-packages (from requests>=2.7.0->sumy) (2025.4.26)\n",
      "Requirement already satisfied: colorama in c:\\users\\akshata pandit\\appdata\\roaming\\python\\python311\\site-packages (from tqdm>=4.27->transformers) (0.4.6)\n",
      "Requirement already satisfied: cffi>=1.12 in c:\\programdata\\anaconda3\\lib\\site-packages (from cryptography>=36.0.0->pdfminer.six==20250327->pdfplumber) (1.16.0)\n",
      "Requirement already satisfied: pycparser in c:\\programdata\\anaconda3\\lib\\site-packages (from cffi>=1.12->cryptography>=36.0.0->pdfminer.six==20250327->pdfplumber) (2.21)\n",
      "Downloading sumy-0.11.0-py2.py3-none-any.whl (97 kB)\n",
      "Downloading pycountry-24.6.1-py3-none-any.whl (6.3 MB)\n",
      "   ---------------------------------------- 0.0/6.3 MB ? eta -:--:--\n",
      "   ---------------------------------------- 0.0/6.3 MB ? eta -:--:--\n",
      "   ---------------------------------------- 0.0/6.3 MB ? eta -:--:--\n",
      "   ---------------------------------------- 0.0/6.3 MB ? eta -:--:--\n",
      "   ---------------------------------------- 0.0/6.3 MB ? eta -:--:--\n",
      "   ---------------------------------------- 0.0/6.3 MB ? eta -:--:--\n",
      "   ---------------------------------------- 0.0/6.3 MB ? eta -:--:--\n",
      "   ---------------------------------------- 0.0/6.3 MB ? eta -:--:--\n",
      "   ---------------------------------------- 0.0/6.3 MB ? eta -:--:--\n",
      "   ---------------------------------------- 0.0/6.3 MB ? eta -:--:--\n",
      "   - -------------------------------------- 0.3/6.3 MB ? eta -:--:--\n",
      "   - -------------------------------------- 0.3/6.3 MB ? eta -:--:--\n",
      "   - -------------------------------------- 0.3/6.3 MB ? eta -:--:--\n",
      "   - -------------------------------------- 0.3/6.3 MB ? eta -:--:--\n",
      "   - -------------------------------------- 0.3/6.3 MB ? eta -:--:--\n",
      "   - -------------------------------------- 0.3/6.3 MB ? eta -:--:--\n",
      "   - -------------------------------------- 0.3/6.3 MB ? eta -:--:--\n",
      "   - -------------------------------------- 0.3/6.3 MB ? eta -:--:--\n",
      "   - -------------------------------------- 0.3/6.3 MB ? eta -:--:--\n",
      "   - -------------------------------------- 0.3/6.3 MB ? eta -:--:--\n",
      "   - -------------------------------------- 0.3/6.3 MB ? eta -:--:--\n",
      "   - -------------------------------------- 0.3/6.3 MB ? eta -:--:--\n",
      "   - -------------------------------------- 0.3/6.3 MB ? eta -:--:--\n",
      "   - -------------------------------------- 0.3/6.3 MB ? eta -:--:--\n",
      "   - -------------------------------------- 0.3/6.3 MB ? eta -:--:--\n",
      "   - -------------------------------------- 0.3/6.3 MB ? eta -:--:--\n",
      "   - -------------------------------------- 0.3/6.3 MB ? eta -:--:--\n",
      "   - -------------------------------------- 0.3/6.3 MB ? eta -:--:--\n",
      "   - -------------------------------------- 0.3/6.3 MB ? eta -:--:--\n",
      "   - -------------------------------------- 0.3/6.3 MB ? eta -:--:--\n",
      "   - -------------------------------------- 0.3/6.3 MB ? eta -:--:--\n",
      "   - -------------------------------------- 0.3/6.3 MB ? eta -:--:--\n",
      "   - -------------------------------------- 0.3/6.3 MB ? eta -:--:--\n",
      "   - -------------------------------------- 0.3/6.3 MB ? eta -:--:--\n",
      "   - -------------------------------------- 0.3/6.3 MB ? eta -:--:--\n",
      "   - -------------------------------------- 0.3/6.3 MB ? eta -:--:--\n",
      "   --- ------------------------------------ 0.5/6.3 MB 45.3 kB/s eta 0:02:09\n",
      "   --- ------------------------------------ 0.5/6.3 MB 45.3 kB/s eta 0:02:09\n",
      "   --- ------------------------------------ 0.5/6.3 MB 45.3 kB/s eta 0:02:09\n",
      "   --- ------------------------------------ 0.5/6.3 MB 45.3 kB/s eta 0:02:09\n",
      "   --- ------------------------------------ 0.5/6.3 MB 45.3 kB/s eta 0:02:09\n",
      "   --- ------------------------------------ 0.5/6.3 MB 45.3 kB/s eta 0:02:09\n",
      "   ---- ----------------------------------- 0.8/6.3 MB 74.1 kB/s eta 0:01:15\n",
      "   ---- ----------------------------------- 0.8/6.3 MB 74.1 kB/s eta 0:01:15\n",
      "   ---- ----------------------------------- 0.8/6.3 MB 74.1 kB/s eta 0:01:15\n",
      "   ---- ----------------------------------- 0.8/6.3 MB 74.1 kB/s eta 0:01:15\n",
      "   ------ --------------------------------- 1.0/6.3 MB 98.3 kB/s eta 0:00:54\n",
      "   ------ --------------------------------- 1.0/6.3 MB 98.3 kB/s eta 0:00:54\n",
      "   ------ --------------------------------- 1.0/6.3 MB 98.3 kB/s eta 0:00:54\n",
      "   -------- ------------------------------- 1.3/6.3 MB 120.9 kB/s eta 0:00:42\n",
      "   -------- ------------------------------- 1.3/6.3 MB 120.9 kB/s eta 0:00:42\n",
      "   -------- ------------------------------- 1.3/6.3 MB 120.9 kB/s eta 0:00:42\n",
      "   --------- ------------------------------ 1.6/6.3 MB 142.2 kB/s eta 0:00:34\n",
      "   --------- ------------------------------ 1.6/6.3 MB 142.2 kB/s eta 0:00:34\n",
      "   ----------- ---------------------------- 1.8/6.3 MB 163.4 kB/s eta 0:00:28\n",
      "   ----------- ---------------------------- 1.8/6.3 MB 163.4 kB/s eta 0:00:28\n",
      "   ----------- ---------------------------- 1.8/6.3 MB 163.4 kB/s eta 0:00:28\n",
      "   ------------- -------------------------- 2.1/6.3 MB 179.0 kB/s eta 0:00:24\n",
      "   ------------- -------------------------- 2.1/6.3 MB 179.0 kB/s eta 0:00:24\n",
      "   ------------- -------------------------- 2.1/6.3 MB 179.0 kB/s eta 0:00:24\n",
      "   ------------- -------------------------- 2.1/6.3 MB 179.0 kB/s eta 0:00:24\n",
      "   -------------- ------------------------- 2.4/6.3 MB 186.7 kB/s eta 0:00:22\n",
      "   -------------- ------------------------- 2.4/6.3 MB 186.7 kB/s eta 0:00:22\n",
      "   -------------- ------------------------- 2.4/6.3 MB 186.7 kB/s eta 0:00:22\n",
      "   -------------- ------------------------- 2.4/6.3 MB 186.7 kB/s eta 0:00:22\n",
      "   -------------- ------------------------- 2.4/6.3 MB 186.7 kB/s eta 0:00:22\n",
      "   -------------- ------------------------- 2.4/6.3 MB 186.7 kB/s eta 0:00:22\n",
      "   -------------- ------------------------- 2.4/6.3 MB 186.7 kB/s eta 0:00:22\n",
      "   -------------- ------------------------- 2.4/6.3 MB 186.7 kB/s eta 0:00:22\n",
      "   -------------- ------------------------- 2.4/6.3 MB 186.7 kB/s eta 0:00:22\n",
      "   -------------- ------------------------- 2.4/6.3 MB 186.7 kB/s eta 0:00:22\n",
      "   -------------- ------------------------- 2.4/6.3 MB 186.7 kB/s eta 0:00:22\n",
      "   -------------- ------------------------- 2.4/6.3 MB 186.7 kB/s eta 0:00:22\n",
      "   -------------- ------------------------- 2.4/6.3 MB 186.7 kB/s eta 0:00:22\n",
      "   -------------- ------------------------- 2.4/6.3 MB 186.7 kB/s eta 0:00:22\n",
      "   -------------- ------------------------- 2.4/6.3 MB 186.7 kB/s eta 0:00:22\n",
      "   -------------- ------------------------- 2.4/6.3 MB 186.7 kB/s eta 0:00:22\n",
      "   -------------- ------------------------- 2.4/6.3 MB 186.7 kB/s eta 0:00:22\n",
      "   -------------- ------------------------- 2.4/6.3 MB 186.7 kB/s eta 0:00:22\n",
      "   -------------- ------------------------- 2.4/6.3 MB 186.7 kB/s eta 0:00:22\n",
      "   -------------- ------------------------- 2.4/6.3 MB 186.7 kB/s eta 0:00:22\n",
      "   ---------------- ----------------------- 2.6/6.3 MB 151.3 kB/s eta 0:00:25\n",
      "   ---------------- ----------------------- 2.6/6.3 MB 151.3 kB/s eta 0:00:25\n",
      "   ---------------- ----------------------- 2.6/6.3 MB 151.3 kB/s eta 0:00:25\n",
      "   ---------------- ----------------------- 2.6/6.3 MB 151.3 kB/s eta 0:00:25\n",
      "   ---------------- ----------------------- 2.6/6.3 MB 151.3 kB/s eta 0:00:25\n",
      "   ---------------- ----------------------- 2.6/6.3 MB 151.3 kB/s eta 0:00:25\n",
      "   ---------------- ----------------------- 2.6/6.3 MB 151.3 kB/s eta 0:00:25\n",
      "   ---------------- ----------------------- 2.6/6.3 MB 151.3 kB/s eta 0:00:25\n",
      "   ---------------- ----------------------- 2.6/6.3 MB 151.3 kB/s eta 0:00:25\n",
      "   ---------------- ----------------------- 2.6/6.3 MB 151.3 kB/s eta 0:00:25\n",
      "   ---------------- ----------------------- 2.6/6.3 MB 151.3 kB/s eta 0:00:25\n",
      "   ---------------- ----------------------- 2.6/6.3 MB 151.3 kB/s eta 0:00:25\n",
      "   ---------------- ----------------------- 2.6/6.3 MB 151.3 kB/s eta 0:00:25\n",
      "   ---------------- ----------------------- 2.6/6.3 MB 151.3 kB/s eta 0:00:25\n",
      "   ---------------- ----------------------- 2.6/6.3 MB 151.3 kB/s eta 0:00:25\n",
      "   ---------------- ----------------------- 2.6/6.3 MB 151.3 kB/s eta 0:00:25\n",
      "   ---------------- ----------------------- 2.6/6.3 MB 151.3 kB/s eta 0:00:25\n",
      "   ---------------- ----------------------- 2.6/6.3 MB 151.3 kB/s eta 0:00:25\n",
      "   ---------------- ----------------------- 2.6/6.3 MB 151.3 kB/s eta 0:00:25\n",
      "   ------------------ --------------------- 2.9/6.3 MB 134.0 kB/s eta 0:00:26\n",
      "   ------------------ --------------------- 2.9/6.3 MB 134.0 kB/s eta 0:00:26\n",
      "   ------------------ --------------------- 2.9/6.3 MB 134.0 kB/s eta 0:00:26\n",
      "   ------------------ --------------------- 2.9/6.3 MB 134.0 kB/s eta 0:00:26\n",
      "   ------------------ --------------------- 2.9/6.3 MB 134.0 kB/s eta 0:00:26\n",
      "   ------------------ --------------------- 2.9/6.3 MB 134.0 kB/s eta 0:00:26\n",
      "   ------------------ --------------------- 2.9/6.3 MB 134.0 kB/s eta 0:00:26\n",
      "   ------------------ --------------------- 2.9/6.3 MB 134.0 kB/s eta 0:00:26\n",
      "   ------------------ --------------------- 2.9/6.3 MB 134.0 kB/s eta 0:00:26\n",
      "   ------------------- -------------------- 3.1/6.3 MB 134.2 kB/s eta 0:00:24\n",
      "   ------------------- -------------------- 3.1/6.3 MB 134.2 kB/s eta 0:00:24\n",
      "   ------------------- -------------------- 3.1/6.3 MB 134.2 kB/s eta 0:00:24\n",
      "   ------------------- -------------------- 3.1/6.3 MB 134.2 kB/s eta 0:00:24\n",
      "   --------------------- ------------------ 3.4/6.3 MB 140.0 kB/s eta 0:00:21\n",
      "   --------------------- ------------------ 3.4/6.3 MB 140.0 kB/s eta 0:00:21\n",
      "   ----------------------- ---------------- 3.7/6.3 MB 148.7 kB/s eta 0:00:18\n",
      "   ----------------------- ---------------- 3.7/6.3 MB 148.7 kB/s eta 0:00:18\n",
      "   ----------------------- ---------------- 3.7/6.3 MB 148.7 kB/s eta 0:00:18\n",
      "   ------------------------ --------------- 3.9/6.3 MB 156.2 kB/s eta 0:00:16\n",
      "   -------------------------- ------------- 4.2/6.3 MB 164.8 kB/s eta 0:00:13\n",
      "   -------------------------- ------------- 4.2/6.3 MB 164.8 kB/s eta 0:00:13\n",
      "   ---------------------------- ----------- 4.5/6.3 MB 173.7 kB/s eta 0:00:11\n",
      "   ------------------------------- -------- 5.0/6.3 MB 192.7 kB/s eta 0:00:08\n",
      "   --------------------------------- ------ 5.2/6.3 MB 202.3 kB/s eta 0:00:06\n",
      "   ---------------------------------- ----- 5.5/6.3 MB 211.4 kB/s eta 0:00:04\n",
      "   -------------------------------------- - 6.0/6.3 MB 229.1 kB/s eta 0:00:02\n",
      "   ---------------------------------------- 6.3/6.3 MB 239.6 kB/s eta 0:00:00\n",
      "Building wheels for collected packages: breadability, docopt\n",
      "  Building wheel for breadability (setup.py): started\n",
      "  Building wheel for breadability (setup.py): finished with status 'done'\n",
      "  Created wheel for breadability: filename=breadability-0.1.20-py2.py3-none-any.whl size=21739 sha256=571a015a11f6bb123e854d551959429284aa496128434319b7aff3ee5fd682bf\n",
      "  Stored in directory: c:\\users\\akshata pandit\\appdata\\local\\pip\\cache\\wheels\\4d\\57\\58\\7e3d7fedf51fe248b7fcee3df6945ae28638e22cddf01eb92b\n",
      "  Building wheel for docopt (setup.py): started\n",
      "  Building wheel for docopt (setup.py): finished with status 'done'\n",
      "  Created wheel for docopt: filename=docopt-0.6.2-py2.py3-none-any.whl size=13773 sha256=eebfbbe4e6de8f914368180cc4dd68546d324d73772cc81f18385850a4c84f75\n",
      "  Stored in directory: c:\\users\\akshata pandit\\appdata\\local\\pip\\cache\\wheels\\1a\\b0\\8c\\4b75c4116c31f83c8f9f047231251e13cc74481cca4a78a9ce\n",
      "Successfully built breadability docopt\n",
      "Installing collected packages: docopt, pycountry, breadability, sumy\n",
      "Successfully installed breadability-0.1.20 docopt-0.6.2 pycountry-24.6.1 sumy-0.11.0\n",
      "Note: you may need to restart the kernel to use updated packages.\n"
     ]
    },
    {
     "name": "stderr",
     "output_type": "stream",
     "text": [
      "DEPRECATION: Loading egg at c:\\programdata\\anaconda3\\lib\\site-packages\\vboxapi-1.0-py3.11.egg is deprecated. pip 25.1 will enforce this behaviour change. A possible replacement is to use pip for package installation. Discussion can be found at https://github.com/pypa/pip/issues/12330\n",
      "  WARNING: The scripts breadability-3.11.exe, breadability.exe, breadability_test-3.11.exe and breadability_test.exe are installed in 'C:\\Users\\Akshata Pandit\\AppData\\Roaming\\Python\\Python311\\Scripts' which is not on PATH.\n",
      "  Consider adding this directory to PATH or, if you prefer to suppress this warning, use --no-warn-script-location.\n",
      "  WARNING: The scripts sumy-3.10.exe, sumy.exe, sumy_eval-3.10.exe and sumy_eval.exe are installed in 'C:\\Users\\Akshata Pandit\\AppData\\Roaming\\Python\\Python311\\Scripts' which is not on PATH.\n",
      "  Consider adding this directory to PATH or, if you prefer to suppress this warning, use --no-warn-script-location.\n",
      "\n",
      "[notice] A new release of pip is available: 24.3.1 -> 25.1.1\n",
      "[notice] To update, run: python.exe -m pip install --upgrade pip\n"
     ]
    }
   ],
   "source": [
    "pip install pdfplumber sumy transformers nltk"
   ]
  },
  {
   "cell_type": "code",
   "execution_count": 1,
   "id": "5ebf3505-e5e2-4bb6-ba0c-23b6036336e7",
   "metadata": {},
   "outputs": [
    {
     "name": "stderr",
     "output_type": "stream",
     "text": [
      "[nltk_data] Error loading punkt: <urlopen error [Errno 11001]\n",
      "[nltk_data]     getaddrinfo failed>\n"
     ]
    },
    {
     "data": {
      "text/plain": [
       "False"
      ]
     },
     "execution_count": 1,
     "metadata": {},
     "output_type": "execute_result"
    }
   ],
   "source": [
    "import nltk\n",
    "nltk.download(\"punkt\")"
   ]
  },
  {
   "cell_type": "code",
   "execution_count": 2,
   "id": "337a63a9-a1ad-4e96-8811-881b7454cb68",
   "metadata": {},
   "outputs": [],
   "source": [
    "import pdfplumber\n",
    "from sumy.parsers.plaintext import PlaintextParser\n",
    "from sumy.nlp.tokenizers import Tokenizer\n",
    "from sumy.summarizers.text_rank import TextRankSummarizer\n",
    "from transformers import pipeline\n",
    "import os"
   ]
  },
  {
   "cell_type": "code",
   "execution_count": 3,
   "id": "7261c800-9abd-499f-a41f-fd646b55d5aa",
   "metadata": {},
   "outputs": [],
   "source": [
    "def load_text(file_path):\n",
    "    if file_path.endswith(\".pdf\"):\n",
    "        with pdfplumber.open(file_path) as pdf:\n",
    "            text = \"\\n\".join(page.extract_text() for page in pdf.pages if page.extract_text())\n",
    "    elif file_path.endswith(\".txt\"):\n",
    "        with open(file_path, \"r\", encoding=\"utf-8\") as f:\n",
    "            text = f.read()\n",
    "    else:\n",
    "        raise ValueError(\"Unsupported file format. Use .pdf or .txt\")\n",
    "    return text.strip()"
   ]
  },
  {
   "cell_type": "code",
   "execution_count": 4,
   "id": "b29d80b2-6e84-4795-ae86-2bebb18f3129",
   "metadata": {},
   "outputs": [],
   "source": [
    "def extractive_summary(text,num_sentences=5):\n",
    "    parser=PlaintextParser.from_string(text, Tokenizer(\"english\"))\n",
    "    summarizer=TextRankSummarizer()\n",
    "    summary=summarizer(parser.document, num_sentences)\n",
    "    return \"\\n\".join(str(sentence) for sentence in summary)"
   ]
  },
  {
   "cell_type": "code",
   "execution_count": 5,
   "id": "59381fb2-fe4f-4b50-81e0-69e5bd6d20ac",
   "metadata": {},
   "outputs": [],
   "source": [
    "def abstractive_summary(text, model_name=\"sshleifer/distilbart-cnn-12-6\"):\n",
    "    summarizer=pipeline(\"summarization\",model=model_name)\n",
    "    max_chunk=1024\n",
    "    text=text.replace(\"\\n\", \" \")\n",
    "    chunks=[text[i:i+max_chunk] for i in range(0,len(text),max_chunk)]\n",
    "    \n",
    "    summary=\"\"\n",
    "    for chunk in chunks:\n",
    "        result=summarizer(chunk,max_length=150,min_length=40, do_sample=False)\n",
    "        summary+=result[0]['summary_text'] + \" \"\n",
    "    return summary.strip()"
   ]
  },
  {
   "cell_type": "code",
   "execution_count": 6,
   "id": "2a2ab7f3-25f0-485e-a359-4d5cb67943b5",
   "metadata": {},
   "outputs": [],
   "source": [
    "def summarize_document(file_path,output_format=\"text\",abstractive=True,extractive=True):\n",
    "    text=load_text(file_path)\n",
    "    \n",
    "    results={}\n",
    "    if extractive:\n",
    "        results[\"Extractive Summary\"]=extractive_summary(text)\n",
    "    if abstractive:\n",
    "        results[\"Abstractive Summary\"]=abstractive_summary(text)\n",
    "    \n",
    "    if output_format==\"markdown\":\n",
    "        output=\"\\n\\n\".join(f\"### {k}\\n\\n{v}\" for k, v in results.items())\n",
    "    else:\n",
    "        output=\"\\n\\n\".join(f\"{k}:\\n{v}\" for k, v in results.items())\n",
    "    \n",
    "    return output"
   ]
  },
  {
   "cell_type": "code",
   "execution_count": 7,
   "id": "096ffb8a-dfb4-4633-92f1-bf227c9a315a",
   "metadata": {},
   "outputs": [
    {
     "name": "stderr",
     "output_type": "stream",
     "text": [
      "Device set to use cpu\n"
     ]
    },
    {
     "name": "stdout",
     "output_type": "stream",
     "text": [
      "Extractive Summary:\n",
      "Country of Origin: UNITED KINGDOM Commodity Code 90318080 Export CPC 10 00 001 Company Details: Registered No: 1418812 England Registered Office: New Mills, Wotton-under-Edge Gloucestershire GL12 8JR U.K. VAT No: GB 422-9005-81 EORI No: GB 422-9005-81-005 Continued… Id: 436829 GBWLCommercial.rpt v1.19 Page 2 of 8 Renishaw UK Sales Limited Tel: +44 (0) 1453 524524 New Mills Fax: +44 (0) 1453 524901 Wotton-under-Edge E-mail: sales.office@renishaw.com Gloucestershire GL12 8JR Web: www.renishaw.com United Kingdom EORI No: GB 422-9005-81-005 Dated: 05 Jan 2024 Time: 08:19 Commercial Invoice Invoice No: S2401-34 Carton Order No Part Number Description Unit Price Qty Sales Value Customs Value\n",
      "Country of Origin: UNITED KINGDOM Commodity Code 90319000 Export CPC 10 00 001 Company Details: Registered No: 1418812 England Registered Office: New Mills, Wotton-under-Edge Gloucestershire GL12 8JR U.K. VAT No: GB 422-9005-81 EORI No: GB 422-9005-81-005 Continued… Id: 436829 GBWLCommercial.rpt v1.19 Page 3 of 8 Renishaw UK Sales Limited Tel: +44 (0) 1453 524524 New Mills Fax: +44 (0) 1453 524901 Wotton-under-Edge E-mail: sales.office@renishaw.com Gloucestershire GL12 8JR Web: www.renishaw.com United Kingdom EORI No: GB 422-9005-81-005 Dated: 05 Jan 2024 Time: 08:19 Commercial Invoice Invoice No: S2401-34 Carton Order No Part Number Description Unit Price Qty Sales Value Customs Value\n",
      "Country of Origin: UNITED KINGDOM Commodity Code 90319000 Export CPC 10 00 001 2401-629 K181953/1 A-5000-7727 M4 EXT L100 d7.4CE 32.10 15 481.50 481.50 Country of Origin: UNITED KINGDOM Commodity Code 90319000 Export CPC 10 00 001 Company Details: Registered No: 1418812 England Registered Office: New Mills, Wotton-under-Edge Gloucestershire GL12 8JR U.K. VAT No: GB 422-9005-81 EORI No: GB 422-9005-81-005 Continued… Id: 436829 GBWLCommercial.rpt v1.19 Page 4 of 8 Renishaw UK Sales Limited Tel: +44 (0) 1453 524524 New Mills Fax: +44 (0) 1453 524901 Wotton-under-Edge E-mail: sales.office@renishaw.com Gloucestershire GL12 8JR Web: www.renishaw.com United Kingdom EORI No: GB 422-9005-81-005 Dated: 05 Jan 2024 Time: 08:19 Commercial Invoice Invoice No: S2401-34 Carton Order No Part Number Description Unit Price Qty Sales Value Customs Value\n",
      "Country of Origin: UNITED KINGDOM Commodity Code 90319000 Export CPC 10 00 001 Company Details: Registered No: 1418812 England Registered Office: New Mills, Wotton-under-Edge Gloucestershire GL12 8JR U.K. VAT No: GB 422-9005-81 EORI No: GB 422-9005-81-005 Continued… Id: 436829 GBWLCommercial.rpt v1.19 Page 5 of 8 Renishaw UK Sales Limited Tel: +44 (0) 1453 524524 New Mills Fax: +44 (0) 1453 524901 Wotton-under-Edge E-mail: sales.office@renishaw.com Gloucestershire GL12 8JR Web: www.renishaw.com United Kingdom EORI No: GB 422-9005-81-005 Dated: 05 Jan 2024 Time: 08:19 Commercial Invoice Invoice No: S2401-34 Carton Order No Part Number Description Unit Price Qty Sales Value Customs Value\n",
      "Country of Origin: UNITED KINGDOM Commodity Code 90319000 Export CPC 10 00 001 Company Details: Registered No: 1418812 England Registered Office: New Mills, Wotton-under-Edge Gloucestershire GL12 8JR U.K. VAT No: GB 422-9005-81 EORI No: GB 422-9005-81-005 Continued… Id: 436829 GBWLCommercial.rpt v1.19 Page 6 of 8 Renishaw UK Sales Limited Tel: +44 (0) 1453 524524 New Mills Fax: +44 (0) 1453 524901 Wotton-under-Edge E-mail: sales.office@renishaw.com Gloucestershire GL12 8JR Web: www.renishaw.com United Kingdom EORI No: GB 422-9005-81-005 Dated: 05 Jan 2024 Time: 08:19 Commercial Invoice Invoice No: S2401-34 Carton Order No Part Number Description Unit Price Qty Sales Value Customs Value\n",
      "\n",
      "Abstractive Summary:\n",
      "EORI No: GB 422-9005-81-005 Dated: 05 Jan 2024 Time: 08:19 Commercial Invoice Invoice No: S2401-34 Carrier Service Carrier Acct No Incoterm Freight, Expeditors Air DAP  Order No Part Number Description Unit Price Qty Sales Value Customs Value 2401-629 K176576/7 A-1016-7626 PL56V CABLE KIT 187.50 4 750.00 KIT . 4,354.75 KIT 1 Country of Origin: UNITED KINGDOM Commodity Code 90319000 Export CPC 10 00 001 .  Renishaw UK Sales Limited Tel: +44 (0) 1453 524524 New Mills New Mills, Wotton-under-Edge Gloucestershire GL12 8JR U.K. VAT No: GB 422-9005-81 EORI No: . GB 422/81-005 Dated: 05 Jan 2024 Time: 08:19 .  Country of Origin: INDIA Commodity Code 85444290 Export CPC 10 00 001 2401-629 K180576 RA27FAA104B30L RESOLUTE FAN 331.00 4 1,324.00 27BIT CABLE-LEMO/20WH 60.00 240.00 10M . MACHINE I/O - NO 360.00 5 1,800.00 .  Renishaw UK Sales Limited Tel: +44 (0) 1453 524524 New Mills, Wotton-under-Edge Gloucestershire GL12 8JR U.K. Code 90318080 Export CPC 10 00 001 Company Details: Registered No: 1418812 England Registered Office: New Mills . VAT No: GB 422-9005-81-005 EORI No: . GB 422/9005/81 Dated: 05 Jan 2024 Time: S2401-34 Carton Order No Part Number Description Unit Price Qty Sales Value Customs Value 2401-643 K180757 Q4BCA10L00T QUANTIC40 RTLC 146.90 1 .  0 KIT Country of Origin: INDIA Commodity Code 90319000 Export CPC 10 00 001 2401-643 K181171 RA26BTA115B05F RESOLUTE ETR BISS 388.75 2 777.50 777 . 50 26 .  Renishaw UK Sales Limited Tel: +44 (0) 1453 524524 New Mills, Wotton-under-Edge Gloucestershire GL12 8JR U.K. VAT No: GB 422-9005-81 EORI No: . GB 422/81-005 Dated: 05 Jan 2024 Time: 08:19 Commercial Invoice Invoice No: S2401-34 Carton Order No Part Number .  EWL63 Country of Origin: UNITED KINGDOM Commodity Code 90319000 Export CPC 10 00 001 2401-643 K181951 A-5003-5241 M5 STY D0.5R L75 22.50 4 90.00 90.50 10 204.30 20.43 10 204 .30 204.50 EWL5 Country of . Origin: EC - GERMANY . Export . CPC 1000 00 1 1,575.00 KIT-11 . Export CPC . 1000 0 0 0 . 0 0.00 EWL 63 .  Renishaw UK Sales Limited is based in New Mills, Wotton-under-Edge Gloucestershire GL12 8JR U.K. VAT No: GB 422-9005-81 EORI No.01 2401-629 K181953/1 A-5000-7727 M4 EXT L100 d7.4CE 32.10 15 481.50 48 1 47.49 KIT .  Commodity Code 85044095 Export CPC 10 00 001 It is confirmed that this item is not controlled/ dual use 2401-643 K181955 A-5000-3626 M2 STR D2 5BALL 38.01 .  Renishaw UK Sales Limited is based in Gloucestershire, England . The company has a registered office in New Mills, Wotton-under-Edge . The invoice invoices will be delivered to the UK on January 24, 2024 .  Kit - customs values held at component level 2401-643 K181955 A-5004-7443 M4 STY BREAK STEM L1 . Pack of 10 OFF Consists of the following components .  Renishaw UK Sales Limited is a UK based based in Wotton-under-Edge, Gloucestershire, UK . Company Details: Registered No: 1418812 England Registered Office: New Mills, New Mills . VAT No: GB 422-9005-81 U.K. EORI No: . GB 422/9005/81-005 Dated: 05 Jan 2024 .  ommodity Code 90319000 Export CPC 10 00 001 2401-643 K182062 A-2063-6098 LP2 PROBE KIT 852.72 2 1,705.44 . EWL10 is not restricted for transport by air and does not meet the requirements of IATA DGR Special Pro .  Renishaw UK Sales Limited. VISION A123 'NOT RESTRICTICTED AS PER SPECIAL PROVENTENT A123' Commodity Code 90319000 Export CPC 10 00 001 2401-643 K182064 A-5003-2764 M4 STY D6R L75 22.50 2 45.00 .  The products covered by this document are of the following origins: EC - GERMANY EC - IRELAND EC - SWEDEN INDIA UNITED KINGDOM Payment Terms: 30 dys from mnth end . If you intend to re-export these goods you are required to comply with Export Control regulations .  Renishaw UK Sales Limited: Signed: Name: Name Dated: 05 Jan 2024 Time: 08:19 Position: Despatch UK AGENTS . Total Sales Value 27,743.11 Total Customs Value 27.11 Freight Value 0.00 Currency: GBP Total Net Weight (Kg): 25.021 For and on behalf of\n"
     ]
    }
   ],
   "source": [
    "file_path=\"C:\\\\Users\\\\Akshata Pandit\\\\Downloads\\\\Document2.pdf\"\n",
    "summary_output=summarize_document(file_path)\n",
    "print(summary_output)"
   ]
  },
  {
   "cell_type": "code",
   "execution_count": 16,
   "id": "bc16c555-69bd-4e7a-8b2a-560b3bb12db5",
   "metadata": {},
   "outputs": [
    {
     "name": "stderr",
     "output_type": "stream",
     "text": [
      "Device set to use cpu\n",
      "Error while downloading from https://cdn-lfs.hf.co/sshleifer/distilbart-cnn-12-6/1e46814333b97dfa0f866f58fd15cd7b48ffbe7fd4c1a929caa5f95c7b2fa592?response-content-disposition=inline%3B+filename*%3DUTF-8%27%27model.safetensors%3B+filename%3D%22model.safetensors%22%3B&Expires=1747588649&Policy=eyJTdGF0ZW1lbnQiOlt7IkNvbmRpdGlvbiI6eyJEYXRlTGVzc1RoYW4iOnsiQVdTOkVwb2NoVGltZSI6MTc0NzU4ODY0OX19LCJSZXNvdXJjZSI6Imh0dHBzOi8vY2RuLWxmcy5oZi5jby9zc2hsZWlmZXIvZGlzdGlsYmFydC1jbm4tMTItNi8xZTQ2ODE0MzMzYjk3ZGZhMGY4NjZmNThmZDE1Y2Q3YjQ4ZmZiZTdmZDRjMWE5MjljYWE1Zjk1YzdiMmZhNTkyP3Jlc3BvbnNlLWNvbnRlbnQtZGlzcG9zaXRpb249KiJ9XX0_&Signature=P1BjnrLlFPe6HOoMAx%7EZWeRYXotRMk3gPqCOhR5BeFJyMz6gL8XQOfKqZVJyJfTfJHtK8ZOccO5E0k7KeOBY3qyOYnm%7EH5JkszqNAcllnisG7e9WxCQg4Lsgyb%7EReKh5YOJPjiIKt5cTaINo73Wj%7Ee7hh9qD1BZny7FyzM%7EcyTQiI735697nUYtw1P%7EQTee%7EwHRgG3YnJaFXI-EZQy6D99cUM3%7EMVEEn6ngauo6Mtn7-kfLngVxkUdvw-Bolyd8pJnwmQoExU9gqQiqBSJoipthqSJqnBLp212xKVSpFZsaGpyc44XZn10X1o0aGuxTE3%7E2Z%7EcKip5vYknMiLkAeww__&Key-Pair-Id=K3RPWS32NSSJCE: HTTPSConnectionPool(host='cdn-lfs.hf.co', port=443): Read timed out.\n",
      "Trying to resume download...\n"
     ]
    },
    {
     "data": {
      "application/vnd.jupyter.widget-view+json": {
       "model_id": "246efe558282433f91cea913d3402d27",
       "version_major": 2,
       "version_minor": 0
      },
      "text/plain": [
       "model.safetensors:  25%|##4       | 398M/1.62G [00:00<?, ?B/s]"
      ]
     },
     "metadata": {},
     "output_type": "display_data"
    },
    {
     "name": "stderr",
     "output_type": "stream",
     "text": [
      "Error while downloading from https://cdn-lfs.hf.co/sshleifer/distilbart-cnn-12-6/1e46814333b97dfa0f866f58fd15cd7b48ffbe7fd4c1a929caa5f95c7b2fa592?response-content-disposition=inline%3B+filename*%3DUTF-8%27%27model.safetensors%3B+filename%3D%22model.safetensors%22%3B&Expires=1747588649&Policy=eyJTdGF0ZW1lbnQiOlt7IkNvbmRpdGlvbiI6eyJEYXRlTGVzc1RoYW4iOnsiQVdTOkVwb2NoVGltZSI6MTc0NzU4ODY0OX19LCJSZXNvdXJjZSI6Imh0dHBzOi8vY2RuLWxmcy5oZi5jby9zc2hsZWlmZXIvZGlzdGlsYmFydC1jbm4tMTItNi8xZTQ2ODE0MzMzYjk3ZGZhMGY4NjZmNThmZDE1Y2Q3YjQ4ZmZiZTdmZDRjMWE5MjljYWE1Zjk1YzdiMmZhNTkyP3Jlc3BvbnNlLWNvbnRlbnQtZGlzcG9zaXRpb249KiJ9XX0_&Signature=P1BjnrLlFPe6HOoMAx%7EZWeRYXotRMk3gPqCOhR5BeFJyMz6gL8XQOfKqZVJyJfTfJHtK8ZOccO5E0k7KeOBY3qyOYnm%7EH5JkszqNAcllnisG7e9WxCQg4Lsgyb%7EReKh5YOJPjiIKt5cTaINo73Wj%7Ee7hh9qD1BZny7FyzM%7EcyTQiI735697nUYtw1P%7EQTee%7EwHRgG3YnJaFXI-EZQy6D99cUM3%7EMVEEn6ngauo6Mtn7-kfLngVxkUdvw-Bolyd8pJnwmQoExU9gqQiqBSJoipthqSJqnBLp212xKVSpFZsaGpyc44XZn10X1o0aGuxTE3%7E2Z%7EcKip5vYknMiLkAeww__&Key-Pair-Id=K3RPWS32NSSJCE: HTTPSConnectionPool(host='cdn-lfs.hf.co', port=443): Read timed out.\n",
      "Trying to resume download...\n"
     ]
    },
    {
     "data": {
      "application/vnd.jupyter.widget-view+json": {
       "model_id": "e1b7fe4c84804790a849b5a1e973cc45",
       "version_major": 2,
       "version_minor": 0
      },
      "text/plain": [
       "model.safetensors:  26%|##6       | 440M/1.66G [00:00<?, ?B/s]"
      ]
     },
     "metadata": {},
     "output_type": "display_data"
    },
    {
     "name": "stdout",
     "output_type": "stream",
     "text": [
      "Extractive Summary:\n",
      "Country of Origin: UNITED KINGDOM Commodity Code 90318080 Export CPC 10 00 001 Company Details: Registered No: 1418812 England Registered Office: New Mills, Wotton-under-Edge Gloucestershire GL12 8JR U.K. VAT No: GB 422-9005-81 EORI No: GB 422-9005-81-005 Continued… Id: 436829 GBWLCommercial.rpt v1.19 Page 2 of 8 Renishaw UK Sales Limited Tel: +44 (0) 1453 524524 New Mills Fax: +44 (0) 1453 524901 Wotton-under-Edge E-mail: sales.office@renishaw.com Gloucestershire GL12 8JR Web: www.renishaw.com United Kingdom EORI No: GB 422-9005-81-005 Dated: 05 Jan 2024 Time: 08:19 Commercial Invoice Invoice No: S2401-34 Carton Order No Part Number Description Unit Price Qty Sales Value Customs Value\n",
      "Country of Origin: UNITED KINGDOM Commodity Code 90319000 Export CPC 10 00 001 Company Details: Registered No: 1418812 England Registered Office: New Mills, Wotton-under-Edge Gloucestershire GL12 8JR U.K. VAT No: GB 422-9005-81 EORI No: GB 422-9005-81-005 Continued… Id: 436829 GBWLCommercial.rpt v1.19 Page 3 of 8 Renishaw UK Sales Limited Tel: +44 (0) 1453 524524 New Mills Fax: +44 (0) 1453 524901 Wotton-under-Edge E-mail: sales.office@renishaw.com Gloucestershire GL12 8JR Web: www.renishaw.com United Kingdom EORI No: GB 422-9005-81-005 Dated: 05 Jan 2024 Time: 08:19 Commercial Invoice Invoice No: S2401-34 Carton Order No Part Number Description Unit Price Qty Sales Value Customs Value\n",
      "Country of Origin: UNITED KINGDOM Commodity Code 90319000 Export CPC 10 00 001 2401-629 K181953/1 A-5000-7727 M4 EXT L100 d7.4CE 32.10 15 481.50 481.50 Country of Origin: UNITED KINGDOM Commodity Code 90319000 Export CPC 10 00 001 Company Details: Registered No: 1418812 England Registered Office: New Mills, Wotton-under-Edge Gloucestershire GL12 8JR U.K. VAT No: GB 422-9005-81 EORI No: GB 422-9005-81-005 Continued… Id: 436829 GBWLCommercial.rpt v1.19 Page 4 of 8 Renishaw UK Sales Limited Tel: +44 (0) 1453 524524 New Mills Fax: +44 (0) 1453 524901 Wotton-under-Edge E-mail: sales.office@renishaw.com Gloucestershire GL12 8JR Web: www.renishaw.com United Kingdom EORI No: GB 422-9005-81-005 Dated: 05 Jan 2024 Time: 08:19 Commercial Invoice Invoice No: S2401-34 Carton Order No Part Number Description Unit Price Qty Sales Value Customs Value\n",
      "Country of Origin: UNITED KINGDOM Commodity Code 90319000 Export CPC 10 00 001 Company Details: Registered No: 1418812 England Registered Office: New Mills, Wotton-under-Edge Gloucestershire GL12 8JR U.K. VAT No: GB 422-9005-81 EORI No: GB 422-9005-81-005 Continued… Id: 436829 GBWLCommercial.rpt v1.19 Page 5 of 8 Renishaw UK Sales Limited Tel: +44 (0) 1453 524524 New Mills Fax: +44 (0) 1453 524901 Wotton-under-Edge E-mail: sales.office@renishaw.com Gloucestershire GL12 8JR Web: www.renishaw.com United Kingdom EORI No: GB 422-9005-81-005 Dated: 05 Jan 2024 Time: 08:19 Commercial Invoice Invoice No: S2401-34 Carton Order No Part Number Description Unit Price Qty Sales Value Customs Value\n",
      "Country of Origin: UNITED KINGDOM Commodity Code 90319000 Export CPC 10 00 001 Company Details: Registered No: 1418812 England Registered Office: New Mills, Wotton-under-Edge Gloucestershire GL12 8JR U.K. VAT No: GB 422-9005-81 EORI No: GB 422-9005-81-005 Continued… Id: 436829 GBWLCommercial.rpt v1.19 Page 6 of 8 Renishaw UK Sales Limited Tel: +44 (0) 1453 524524 New Mills Fax: +44 (0) 1453 524901 Wotton-under-Edge E-mail: sales.office@renishaw.com Gloucestershire GL12 8JR Web: www.renishaw.com United Kingdom EORI No: GB 422-9005-81-005 Dated: 05 Jan 2024 Time: 08:19 Commercial Invoice Invoice No: S2401-34 Carton Order No Part Number Description Unit Price Qty Sales Value Customs Value\n",
      "\n",
      "Abstractive Summary:\n",
      "EORI No: GB 422-9005-81-005 Dated: 05 Jan 2024 Time: 08:19 Commercial Invoice Invoice No: S2401-34 Carrier Service Carrier Acct No Incoterm Freight, Expeditors Air DAP  Order No Part Number Description Unit Price Qty Sales Value Customs Value 2401-629 K176576/7 A-1016-7626 PL56V CABLE KIT 187.50 4 750.00 KIT . 4,354.75 KIT 1 Country of Origin: UNITED KINGDOM Commodity Code 90319000 Export CPC 10 00 001 .  Renishaw UK Sales Limited Tel: +44 (0) 1453 524524 New Mills New Mills, Wotton-under-Edge Gloucestershire GL12 8JR U.K. VAT No: GB 422-9005-81 EORI No: . GB 422/81-005 Dated: 05 Jan 2024 Time: 08:19 .  Country of Origin: INDIA Commodity Code 85444290 Export CPC 10 00 001 2401-629 K180576 RA27FAA104B30L RESOLUTE FAN 331.00 4 1,324.00 27BIT CABLE-LEMO/20WH 60.00 240.00 10M . MACHINE I/O - NO 360.00 5 1,800.00 .  Renishaw UK Sales Limited Tel: +44 (0) 1453 524524 New Mills, Wotton-under-Edge Gloucestershire GL12 8JR U.K. Code 90318080 Export CPC 10 00 001 Company Details: Registered No: 1418812 England Registered Office: New Mills . VAT No: GB 422-9005-81-005 EORI No: . GB 422/9005/81 Dated: 05 Jan 2024 Time: S2401-34 Carton Order No Part Number Description Unit Price Qty Sales Value Customs Value 2401-643 K180757 Q4BCA10L00T QUANTIC40 RTLC 146.90 1 .  0 KIT Country of Origin: INDIA Commodity Code 90319000 Export CPC 10 00 001 2401-643 K181171 RA26BTA115B05F RESOLUTE ETR BISS 388.75 2 777.50 777 . 50 26 .  Renishaw UK Sales Limited Tel: +44 (0) 1453 524524 New Mills, Wotton-under-Edge Gloucestershire GL12 8JR U.K. VAT No: GB 422-9005-81 EORI No: . GB 422/81-005 Dated: 05 Jan 2024 Time: 08:19 Commercial Invoice Invoice No: S2401-34 Carton Order No Part Number .  EWL63 Country of Origin: UNITED KINGDOM Commodity Code 90319000 Export CPC 10 00 001 2401-643 K181951 A-5003-5241 M5 STY D0.5R L75 22.50 4 90.00 90.50 10 204.30 20.43 10 204 .30 204.50 EWL5 Country of . Origin: EC - GERMANY . Export . CPC 1000 00 1 1,575.00 KIT-11 . Export CPC . 1000 0 0 0 . 0 0.00 EWL 63 .  Renishaw UK Sales Limited is based in New Mills, Wotton-under-Edge Gloucestershire GL12 8JR U.K. VAT No: GB 422-9005-81 EORI No.01 2401-629 K181953/1 A-5000-7727 M4 EXT L100 d7.4CE 32.10 15 481.50 48 1 47.49 KIT .  Commodity Code 85044095 Export CPC 10 00 001 It is confirmed that this item is not controlled/ dual use 2401-643 K181955 A-5000-3626 M2 STR D2 5BALL 38.01 .  Renishaw UK Sales Limited is based in Gloucestershire, England . The company has a registered office in New Mills, Wotton-under-Edge . The invoice invoices will be delivered to the UK on January 24, 2024 .  Kit - customs values held at component level 2401-643 K181955 A-5004-7443 M4 STY BREAK STEM L1 . Pack of 10 OFF Consists of the following components .  Renishaw UK Sales Limited is a UK based based in Wotton-under-Edge, Gloucestershire, UK . Company Details: Registered No: 1418812 England Registered Office: New Mills, New Mills . VAT No: GB 422-9005-81 U.K. EORI No: . GB 422/9005/81-005 Dated: 05 Jan 2024 .  ommodity Code 90319000 Export CPC 10 00 001 2401-643 K182062 A-2063-6098 LP2 PROBE KIT 852.72 2 1,705.44 . EWL10 is not restricted for transport by air and does not meet the requirements of IATA DGR Special Pro .  Renishaw UK Sales Limited. VISION A123 'NOT RESTRICTICTED AS PER SPECIAL PROVENTENT A123' Commodity Code 90319000 Export CPC 10 00 001 2401-643 K182064 A-5003-2764 M4 STY D6R L75 22.50 2 45.00 .  The products covered by this document are of the following origins: EC - GERMANY EC - IRELAND EC - SWEDEN INDIA UNITED KINGDOM Payment Terms: 30 dys from mnth end . If you intend to re-export these goods you are required to comply with Export Control regulations .  Renishaw UK Sales Limited: Signed: Name: Name Dated: 05 Jan 2024 Time: 08:19 Position: Despatch UK AGENTS . Total Sales Value 27,743.11 Total Customs Value 27.11 Freight Value 0.00 Currency: GBP Total Net Weight (Kg): 25.021 For and on behalf of\n"
     ]
    }
   ],
   "source": [
    "file_path=\"C:\\\\Users\\\\Akshata Pandit\\\\Downloads\\\\Document1.pdf\"\n",
    "summary_output=summarize_document(file_path)\n",
    "print(summary_output)"
   ]
  },
  {
   "cell_type": "code",
   "execution_count": 18,
   "id": "cf89a9a8-c217-4aa5-88bf-b1fad8d05d25",
   "metadata": {},
   "outputs": [
    {
     "name": "stderr",
     "output_type": "stream",
     "text": [
      "Device set to use cpu\n",
      "Your max_length is set to 150, but your input_length is only 7. Since this is a summarization task, where outputs shorter than the input are typically wanted, you might consider decreasing max_length manually, e.g. summarizer('...', max_length=3)\n"
     ]
    },
    {
     "name": "stdout",
     "output_type": "stream",
     "text": [
      "Extractive Summary:\n",
      "CAsh fLoW stAteMent for the YeAr ended MArCh 31, 2023 (Amount ` in lakhs) Year ended March Year ended March 31, 2023 31, 2022 (A) CAsh fLoW froM operAtIng ACtIvItIes profIt before tAX 2,362.19 1,203.98 Adjustments for : Depreciation and Amortization 4.97 7.83 Provision for Employee Benefits (Net of reversal) (15.01) (105.30) Provision for Expected Credit Loss for trade receivables 331.73 (25.46) FVTPL (Gain)/Loss of current investments (145.46) (12.15) FVTPL (Gain)/Loss of non-current investments (301.24) (202.02) Provision for diminution in value of investment - 15.22 (Profit)/Loss on sale of non-current investments - 243.50 (Profit)/Loss on sale of current investments (54.46) (121.71) (Profit)/Loss on sale of Property, Plant and Equipment (Net) (7.33) (0.29) Interest Income (9.45) (82.19) Dividend Income from current investments 18 (2,604.80) (1,507.72) Operating Profit before working capital changes (438.86) (586.31) Changes in working capital : Adjustments for (increase)/decrease in operating assets : Trade Receivables (107.65) 263.49 Other Financial Assets 91.56 (72.53) Other Non-Financial Assets (9.53) 3.83 Adjustments for increase/(decrease) in operating liabilities : Trade Payables (85.88) (37.49) Other Non-Financial Liabilities 4.95 8.76 Cashflow after working capital changes (545.41) (420.25) Less: Taxes (paid)/refund received (Net) (239.34) 0.62 net CAsh generAted froM operAtIng ACtIvItIes A (784.75) (419.63) (b) CAsh fLoW froM InvestIng ACtIvItIes (Purchase)/Sale of mutual funds (Net) (2,603.89) 1,068.21 Dividend Income Received 18 2,604.80 1,507.72 (Purchase)/Sale of venture capital funds (Net) (79.01) 19.32 (Investment in)/Redemption from Fixed Deposits 553.00 (553.00) Purchase of Property, Plant and Equipment’s - (1.67) Proceeds from Sale of Property, Plant and Equipment’s 7.38 0.30 Interest received 32.29 96.03 net CAsh generAted froM / (used In) InvestIng ACtIvItIes b 514.57 2,136.91 IILL&&FFSS IInnvveessttmmeenntt MMaannaaggeerrss LLiimmiitteedd 59 CAsh fLoW stAteMent for the YeAr ended MArCh 31, 2023 (Amount ` in lakhs) Year ended March Year ended March 31, 2023 31, 2022 (C) CAsh fLoW froM fInAnCIng ACtIvItIes Dividend paid on Equity Shares 15 (1,256.13) (942.10) net CAsh used In fInAnCIng ACtIvItIes C (1,256.13) (942.10) (d) net Increase/(decrease) in Cash and Cash equivalents (A+b +C) (1,526.31) 775.18 Add: Cash and Cash equivalent at the beginning of the year (refer 3 1,547.52 772.34 note 3) Cash and Cash equivalent at the end of the year (refer note 3) 3 21.21 1,547.52 The accompanying Notes are an integral part of the Financial Statements In terms of our report attached of even date for and on behalf of the board of directors for KKC & Associates LLp s M datta Chartered Accountants Chairman (formerly Khimji Kunverji & Co LLP) DIN : 00032812 Firm Registration No.\n",
      ": 105146W/W100621 hasmukh b dedhia Manoj borkar sanjay Mitra Partner Chief Executive Officer & Company Secretary Membership No.\n",
      "– 033494 Chief Financial Officer Place : Mumbai Place : Mumbai Date : May 30, 2023 Date : May 30, 2023 60 Annual Report 2023\n",
      "\n",
      "Abstractive Summary:\n",
      "CAsh fLoW stAteMent for the YeAr ended MArCh 31, 2023 (Amount ` in lakhs) Year ended March ended March . Year ended ended March 31, . 31, 2022 (A) 2,362.19 1,203.98 Adjustments for : Depreciation and Amortization 4.97 7.83 Provision for Employee Benefits (Net of reversal) (15.01) (105.30) Provision for Expected Credit Loss for trade receivables 331.73 (25.46) FVTPL (Gain)/Loss of current investments (145.46), (12.15), (301.24) (202.02)  Cashflow after working capital changes (545.41) (420.25) Less: Taxes (paid)/refund received (Net) (239.34) 0.62 net CAsh generAted froM operAtIng ACtIvItIes A (784.75) (419.63) (b) CAsh fLoW stAteMent for the YeAr ended MArCh 31 .  KKC & Associates LLp s M datta Chartered Accountants Chairman (formerly Khimji Kunverji & Co LLP) Manoj borkar sanjay Mitra Partner Chief Executive Officer & Company Secretary Membership No. – 033494 Chief Financial Officer . Dividend paid on Equity Shares 15 (1,256.13) (942.10) net CAsh used In fInAnCIng ACtIvItIes C (1,.256. 13) net Increase/(decrease) in Cash and Cash equivalents (A+b +C) (1.526.31) 775.18 Add: Cash and cash equivalent at the beginning of the year (refer 3 1,  nual Report 2023. nual report 2023 . Report 2020. i.Nual Report . 2023 is based on data from various countries around the world . In the U.S. market, we assesses the future of the next generation of technology .\n"
     ]
    },
    {
     "data": {
      "application/vnd.jupyter.widget-view+json": {
       "model_id": "c4c47b26055840a5985980a5eca13adc",
       "version_major": 2,
       "version_minor": 0
      },
      "text/plain": [
       "model.safetensors:   0%|          | 0.00/1.22G [00:00<?, ?B/s]"
      ]
     },
     "metadata": {},
     "output_type": "display_data"
    }
   ],
   "source": [
    "file_path=\"C:\\\\Users\\\\Akshata Pandit\\\\Downloads\\\\Document5.pdf\"\n",
    "summary_output=summarize_document(file_path)\n",
    "print(summary_output)"
   ]
  },
  {
   "cell_type": "code",
   "execution_count": null,
   "id": "9c1ed237-be20-4e2e-aa2c-f90e0d542b6c",
   "metadata": {},
   "outputs": [],
   "source": []
  }
 ],
 "metadata": {
  "kernelspec": {
   "display_name": "Python 3 (ipykernel)",
   "language": "python",
   "name": "python3"
  },
  "language_info": {
   "codemirror_mode": {
    "name": "ipython",
    "version": 3
   },
   "file_extension": ".py",
   "mimetype": "text/x-python",
   "name": "python",
   "nbconvert_exporter": "python",
   "pygments_lexer": "ipython3",
   "version": "3.11.7"
  }
 },
 "nbformat": 4,
 "nbformat_minor": 5
}
